{
 "cells": [
  {
   "cell_type": "code",
   "execution_count": 1,
   "id": "b4911ec4",
   "metadata": {},
   "outputs": [],
   "source": [
    "import numpy as np\n",
    "import pandas as pd"
   ]
  },
  {
   "cell_type": "markdown",
   "id": "e8392966",
   "metadata": {},
   "source": [
    "### Создать одномерный массив Numpy под названием a из 12 последовательных целых чисел чисел от 12 до 24 невключительно\n"
   ]
  },
  {
   "cell_type": "code",
   "execution_count": 3,
   "id": "fd59cb7e",
   "metadata": {},
   "outputs": [
    {
     "data": {
      "text/plain": [
       "array([12, 13, 14, 15, 16, 17, 18, 19, 20, 21, 22, 23])"
      ]
     },
     "execution_count": 3,
     "metadata": {},
     "output_type": "execute_result"
    }
   ],
   "source": [
    "a = np.arange(12,24)\n",
    "a"
   ]
  },
  {
   "cell_type": "markdown",
   "id": "99c86604",
   "metadata": {},
   "source": [
    "### Создать 5 двумерных массивов разной формы из массива a. Не использовать в аргументах метода reshape число -1.\n"
   ]
  },
  {
   "cell_type": "code",
   "execution_count": 4,
   "id": "dac06b0c",
   "metadata": {},
   "outputs": [
    {
     "data": {
      "text/plain": [
       "array([[12, 13, 14, 15, 16, 17],\n",
       "       [18, 19, 20, 21, 22, 23]])"
      ]
     },
     "execution_count": 4,
     "metadata": {},
     "output_type": "execute_result"
    }
   ],
   "source": [
    "a1 = a.reshape(2,6)\n",
    "a1"
   ]
  },
  {
   "cell_type": "code",
   "execution_count": 6,
   "id": "5ca66f69",
   "metadata": {},
   "outputs": [
    {
     "data": {
      "text/plain": [
       "array([[12, 13, 14, 15],\n",
       "       [16, 17, 18, 19],\n",
       "       [20, 21, 22, 23]])"
      ]
     },
     "execution_count": 6,
     "metadata": {},
     "output_type": "execute_result"
    }
   ],
   "source": [
    "a2 = a.reshape(3,4)\n",
    "a2"
   ]
  },
  {
   "cell_type": "code",
   "execution_count": 8,
   "id": "caa37927",
   "metadata": {},
   "outputs": [
    {
     "data": {
      "text/plain": [
       "array([[12, 13],\n",
       "       [14, 15],\n",
       "       [16, 17],\n",
       "       [18, 19],\n",
       "       [20, 21],\n",
       "       [22, 23]])"
      ]
     },
     "execution_count": 8,
     "metadata": {},
     "output_type": "execute_result"
    }
   ],
   "source": [
    "a3 = a.reshape(6,2)\n",
    "a3"
   ]
  },
  {
   "cell_type": "code",
   "execution_count": 9,
   "id": "d12e1b95",
   "metadata": {},
   "outputs": [
    {
     "data": {
      "text/plain": [
       "array([[12, 13, 14],\n",
       "       [15, 16, 17],\n",
       "       [18, 19, 20],\n",
       "       [21, 22, 23]])"
      ]
     },
     "execution_count": 9,
     "metadata": {},
     "output_type": "execute_result"
    }
   ],
   "source": [
    "a4 = a.reshape(4,3)\n",
    "a4"
   ]
  },
  {
   "cell_type": "code",
   "execution_count": 14,
   "id": "6f71d7a4",
   "metadata": {},
   "outputs": [
    {
     "data": {
      "text/plain": [
       "array([[12, 16, 20],\n",
       "       [13, 17, 21],\n",
       "       [14, 18, 22],\n",
       "       [15, 19, 23]])"
      ]
     },
     "execution_count": 14,
     "metadata": {},
     "output_type": "execute_result"
    }
   ],
   "source": [
    "a5 = a2.T\n",
    "a5"
   ]
  },
  {
   "cell_type": "markdown",
   "id": "4b7f79c3",
   "metadata": {},
   "source": [
    "### Создать 5 двумерных массивов разной формы из массива a. Использовать в аргументах метода reshape число -1 (в трех примерах - для обозначения числа столбцов, в двух - для строк).\n"
   ]
  },
  {
   "cell_type": "code",
   "execution_count": 16,
   "id": "ebaeb037",
   "metadata": {},
   "outputs": [
    {
     "data": {
      "text/plain": [
       "array([[12, 13, 14],\n",
       "       [15, 16, 17],\n",
       "       [18, 19, 20],\n",
       "       [21, 22, 23]])"
      ]
     },
     "execution_count": 16,
     "metadata": {},
     "output_type": "execute_result"
    }
   ],
   "source": [
    "a6 = a.reshape(-1, 3)\n",
    "a6"
   ]
  },
  {
   "cell_type": "code",
   "execution_count": 17,
   "id": "fed40631",
   "metadata": {},
   "outputs": [
    {
     "data": {
      "text/plain": [
       "array([[12, 13],\n",
       "       [14, 15],\n",
       "       [16, 17],\n",
       "       [18, 19],\n",
       "       [20, 21],\n",
       "       [22, 23]])"
      ]
     },
     "execution_count": 17,
     "metadata": {},
     "output_type": "execute_result"
    }
   ],
   "source": [
    "a7 = a.reshape(-1, 2)\n",
    "a7"
   ]
  },
  {
   "cell_type": "code",
   "execution_count": 18,
   "id": "f216c858",
   "metadata": {},
   "outputs": [
    {
     "data": {
      "text/plain": [
       "array([[12, 13, 14, 15, 16, 17],\n",
       "       [18, 19, 20, 21, 22, 23]])"
      ]
     },
     "execution_count": 18,
     "metadata": {},
     "output_type": "execute_result"
    }
   ],
   "source": [
    "a8 = a.reshape(2 , -1)\n",
    "a8"
   ]
  },
  {
   "cell_type": "code",
   "execution_count": 19,
   "id": "62c21bfb",
   "metadata": {},
   "outputs": [
    {
     "data": {
      "text/plain": [
       "array([[12, 13, 14, 15],\n",
       "       [16, 17, 18, 19],\n",
       "       [20, 21, 22, 23]])"
      ]
     },
     "execution_count": 19,
     "metadata": {},
     "output_type": "execute_result"
    }
   ],
   "source": [
    "a9 = a.reshape(3 , -1)\n",
    "a9"
   ]
  },
  {
   "cell_type": "code",
   "execution_count": 26,
   "id": "0f16e6ae",
   "metadata": {},
   "outputs": [
    {
     "data": {
      "text/plain": [
       "array([[12],\n",
       "       [13],\n",
       "       [14],\n",
       "       [15],\n",
       "       [16],\n",
       "       [17],\n",
       "       [18],\n",
       "       [19],\n",
       "       [20],\n",
       "       [21],\n",
       "       [22],\n",
       "       [23]])"
      ]
     },
     "execution_count": 26,
     "metadata": {},
     "output_type": "execute_result"
    }
   ],
   "source": [
    "a10 = a.reshape(12 , -1)\n",
    "a10"
   ]
  },
  {
   "cell_type": "markdown",
   "id": "48e77c35",
   "metadata": {},
   "source": [
    "### Можно ли массив Numpy, состоящий из одного столбца и 12 строк, назвать одномерным?\n",
    "\n",
    "\n",
    "Нельзя, т.к. массив состоящий даже из одного столбца будет иметь доп индексацию (номер строки и столбца), а одномерный имеет индексацию с 1 индексом только"
   ]
  },
  {
   "cell_type": "markdown",
   "id": "dae146c2",
   "metadata": {},
   "source": [
    "### Создать массив из 3 строк и 4 столбцов, состоящий из случайных чисел с плавающей запятой из нормального распределения со средним, равным 0 и среднеквадратичным отклонением, равным 1.0. Получить из этого массива одномерный массив с таким же атрибутом size, как и исходный массив.\n"
   ]
  },
  {
   "cell_type": "code",
   "execution_count": 32,
   "id": "6f9274ec",
   "metadata": {},
   "outputs": [
    {
     "name": "stdout",
     "output_type": "stream",
     "text": [
      "[[-0.34210456 -0.80070386  0.94108032 -0.93577868]\n",
      " [ 0.75983044 -0.99322316 -0.11025787  1.18726929]\n",
      " [-0.05717431 -0.68389318 -0.98791073  1.68339705]]\n",
      "12\n",
      "12\n"
     ]
    }
   ],
   "source": [
    "b = np.random.randn (3,4)\n",
    "print(b)\n",
    "print(b.size)\n",
    "b=b.flatten()\n",
    "print(b.size)"
   ]
  },
  {
   "cell_type": "markdown",
   "id": "8cc59837",
   "metadata": {},
   "source": [
    "### Создать массив a, состоящий из целых чисел, убывающих от 20 до 0 невключительно с интервалом 2."
   ]
  },
  {
   "cell_type": "code",
   "execution_count": 34,
   "id": "ed813a02",
   "metadata": {},
   "outputs": [
    {
     "data": {
      "text/plain": [
       "array([20, 18, 16, 14, 12, 10,  8,  6,  4,  2])"
      ]
     },
     "execution_count": 34,
     "metadata": {},
     "output_type": "execute_result"
    }
   ],
   "source": [
    "a = np.arange(20, 0, -2)\n",
    "a"
   ]
  },
  {
   "cell_type": "markdown",
   "id": "63df0707",
   "metadata": {},
   "source": [
    "### Создать массив b, состоящий из 1 строки и 10 столбцов: целых чисел, убывающих от 20 до 1 невключительно с интервалом 2. В чем разница между массивами a и b?\n",
    "\n",
    "a - одномерный, b- двумерный массив"
   ]
  },
  {
   "cell_type": "code",
   "execution_count": 35,
   "id": "79f47773",
   "metadata": {},
   "outputs": [
    {
     "data": {
      "text/plain": [
       "array([[20, 18, 16, 14, 12, 10,  8,  6,  4,  2]])"
      ]
     },
     "execution_count": 35,
     "metadata": {},
     "output_type": "execute_result"
    }
   ],
   "source": [
    "b = np.arange(20, 1, -2).reshape(1,10)\n",
    "b"
   ]
  },
  {
   "cell_type": "markdown",
   "id": "c938c8e5",
   "metadata": {},
   "source": [
    "### Вертикально соединить массивы a и b. a - двумерный массив из нулей, число строк которого больше 1 и на 1 меньше, чем число строк двумерного массива b, состоящего из единиц. Итоговый массив v должен иметь атрибут size, равный 10."
   ]
  },
  {
   "cell_type": "code",
   "execution_count": 36,
   "id": "27eefc3b",
   "metadata": {},
   "outputs": [
    {
     "data": {
      "text/plain": [
       "array([[0., 0.],\n",
       "       [0., 0.]])"
      ]
     },
     "execution_count": 36,
     "metadata": {},
     "output_type": "execute_result"
    }
   ],
   "source": [
    "a = np.zeros((2,2))\n",
    "a"
   ]
  },
  {
   "cell_type": "code",
   "execution_count": 37,
   "id": "c3875e1d",
   "metadata": {},
   "outputs": [
    {
     "data": {
      "text/plain": [
       "array([[1., 1.],\n",
       "       [1., 1.],\n",
       "       [1., 1.]])"
      ]
     },
     "execution_count": 37,
     "metadata": {},
     "output_type": "execute_result"
    }
   ],
   "source": [
    "b = np.ones((3,2))\n",
    "b"
   ]
  },
  {
   "cell_type": "code",
   "execution_count": 39,
   "id": "db9cda9a",
   "metadata": {},
   "outputs": [
    {
     "data": {
      "text/plain": [
       "array([[0., 0.],\n",
       "       [0., 0.],\n",
       "       [1., 1.],\n",
       "       [1., 1.],\n",
       "       [1., 1.]])"
      ]
     },
     "execution_count": 39,
     "metadata": {},
     "output_type": "execute_result"
    }
   ],
   "source": [
    "v = np.vstack((a, b))\n",
    "v"
   ]
  },
  {
   "cell_type": "markdown",
   "id": "9ae470a2",
   "metadata": {},
   "source": [
    "### Создать одномерный массив а, состоящий из последовательности целых чисел от 0 до 12. Поменять форму этого массива, чтобы получилась матрица A (двумерный массив Numpy), состоящая из 4 строк и 3 столбцов. Получить матрицу At путем транспонирования матрицы A. Получить матрицу B, умножив матрицу A на матрицу At с помощью матричного умножения. Какой размер имеет матрица B? Получится ли вычислить обратную матрицу для матрицы B и почему?\n",
    "\n",
    "Нет, т.к. это сингулярная матрица\n"
   ]
  },
  {
   "cell_type": "code",
   "execution_count": 54,
   "id": "526eade1",
   "metadata": {},
   "outputs": [
    {
     "name": "stdout",
     "output_type": "stream",
     "text": [
      "[ 0  1  2  3  4  5  6  7  8  9 10 11]\n",
      "[[ 0  1  2]\n",
      " [ 3  4  5]\n",
      " [ 6  7  8]\n",
      " [ 9 10 11]]\n",
      "[[ 0  3  6  9]\n",
      " [ 1  4  7 10]\n",
      " [ 2  5  8 11]]\n",
      "[[  5  14  23  32]\n",
      " [ 14  50  86 122]\n",
      " [ 23  86 149 212]\n",
      " [ 32 122 212 302]]\n",
      "(4, 4)\n"
     ]
    },
    {
     "data": {
      "text/plain": [
       "array([[  5,  14,  23,  32],\n",
       "       [ 14,  50,  86, 122],\n",
       "       [ 23,  86, 149, 212],\n",
       "       [ 32, 122, 212, 302]])"
      ]
     },
     "execution_count": 54,
     "metadata": {},
     "output_type": "execute_result"
    }
   ],
   "source": [
    "a = np.arange(0, 12)\n",
    "print(a)\n",
    "A = a.reshape(4, 3)\n",
    "print(A)\n",
    "At = A.T\n",
    "print(At)\n",
    "B = np.dot(A, At)\n",
    "print(B)\n",
    "print(B.shape)"
   ]
  },
  {
   "cell_type": "markdown",
   "id": "c49da5ba",
   "metadata": {},
   "source": [
    "### Инициализируйте генератор случайных числе с помощью объекта seed, равного 42."
   ]
  },
  {
   "cell_type": "code",
   "execution_count": 57,
   "id": "c79ab716",
   "metadata": {},
   "outputs": [],
   "source": [
    "a = np.random.seed(42)"
   ]
  },
  {
   "cell_type": "markdown",
   "id": "7ce3f8d2",
   "metadata": {},
   "source": [
    "### Создайте одномерный массив c, составленный из последовательности 16-ти случайных равномерно распределенных целых чисел от 0 до 16 невключительно."
   ]
  },
  {
   "cell_type": "code",
   "execution_count": 64,
   "id": "d226de97",
   "metadata": {},
   "outputs": [
    {
     "data": {
      "text/plain": [
       "array([ 3, 12, 14, 10,  7, 12,  4,  6,  9,  2,  6, 10, 10,  7,  4,  3])"
      ]
     },
     "execution_count": 64,
     "metadata": {},
     "output_type": "execute_result"
    }
   ],
   "source": [
    "c = np.random.randint(0, 16, 16)\n",
    "c"
   ]
  },
  {
   "cell_type": "markdown",
   "id": "1c13e9ef",
   "metadata": {},
   "source": [
    "### Поменяйте его форму так, чтобы получилась квадратная матрица C. Получите матрицу D, поэлементно прибавив матрицу B из предыдущего вопроса к матрице C, умноженной на 10. Вычислите определитель, ранг и обратную матрицу D_inv для D.\n"
   ]
  },
  {
   "cell_type": "code",
   "execution_count": 66,
   "id": "bf53f515",
   "metadata": {},
   "outputs": [
    {
     "data": {
      "text/plain": [
       "array([[ 3, 12, 14, 10],\n",
       "       [ 7, 12,  4,  6],\n",
       "       [ 9,  2,  6, 10],\n",
       "       [10,  7,  4,  3]])"
      ]
     },
     "execution_count": 66,
     "metadata": {},
     "output_type": "execute_result"
    }
   ],
   "source": [
    "c = c.reshape(4, 4)\n",
    "c"
   ]
  },
  {
   "cell_type": "code",
   "execution_count": 69,
   "id": "dee2ae94",
   "metadata": {},
   "outputs": [
    {
     "data": {
      "text/plain": [
       "array([[ 35, 134, 163, 132],\n",
       "       [ 84, 170, 126, 182],\n",
       "       [113, 106, 209, 312],\n",
       "       [132, 192, 252, 332]])"
      ]
     },
     "execution_count": 69,
     "metadata": {},
     "output_type": "execute_result"
    }
   ],
   "source": [
    "D = np.add(B, c*10)\n",
    "D"
   ]
  },
  {
   "cell_type": "code",
   "execution_count": 72,
   "id": "68beef56",
   "metadata": {},
   "outputs": [
    {
     "name": "stdout",
     "output_type": "stream",
     "text": [
      "21320000.000000034\n",
      "4\n",
      "[[-0.0421257  -0.04781989 -0.07423077  0.11272233]\n",
      " [ 0.00713133  0.01837899  0.00807692 -0.02050094]\n",
      " [-0.00235084 -0.03018386 -0.02807692  0.04386679]\n",
      " [ 0.01440901  0.03129456  0.04615385 -0.06324578]]\n"
     ]
    }
   ],
   "source": [
    "print( np.linalg.det(D))\n",
    "print( np.linalg.matrix_rank(D))\n",
    "D_inv = np.linalg.inv(D)\n",
    "print(D_inv)"
   ]
  },
  {
   "cell_type": "markdown",
   "id": "111ae4e2",
   "metadata": {},
   "source": [
    "### Приравняйте к нулю отрицательные числа в матрице D_inv, а положительные - к единице. Убедитесь, что в матрице D_inv остались только нули и единицы. С помощью функции numpy.where, используя матрицу D_inv в качестве маски, а матрицы B и C - в качестве источников данных, получите матрицу E размером 4x4.  Элементы матрицы E, для которых соответствующий элемент матрицы D_inv равен 1, должны быть равны соответствующему элементу матрицы B, а элементы матрицы E, для которых соответствующий элемент матрицы D_inv равен 0, должны быть равны соответствующему элементу матрицы C."
   ]
  },
  {
   "cell_type": "code",
   "execution_count": 88,
   "id": "4f3b89d1",
   "metadata": {},
   "outputs": [
    {
     "data": {
      "text/plain": [
       "array([[[1, 1, 1, 1],\n",
       "        [1, 1, 1, 1],\n",
       "        [1, 1, 1, 1],\n",
       "        [1, 1, 1, 1]],\n",
       "\n",
       "       [[1, 1, 1, 1],\n",
       "        [1, 1, 1, 1],\n",
       "        [1, 1, 1, 1],\n",
       "        [1, 1, 1, 1]]])"
      ]
     },
     "execution_count": 88,
     "metadata": {},
     "output_type": "execute_result"
    }
   ],
   "source": [
    "D_inv = np.where (D_inv<0, 0, 1)\n",
    "D_inv\n",
    "# Не понимаю, почему здесь это происходит"
   ]
  },
  {
   "cell_type": "code",
   "execution_count": null,
   "id": "77151fac",
   "metadata": {},
   "outputs": [],
   "source": []
  }
 ],
 "metadata": {
  "kernelspec": {
   "display_name": "Python 3",
   "language": "python",
   "name": "python3"
  },
  "language_info": {
   "codemirror_mode": {
    "name": "ipython",
    "version": 3
   },
   "file_extension": ".py",
   "mimetype": "text/x-python",
   "name": "python",
   "nbconvert_exporter": "python",
   "pygments_lexer": "ipython3",
   "version": "3.8.8"
  }
 },
 "nbformat": 4,
 "nbformat_minor": 5
}
